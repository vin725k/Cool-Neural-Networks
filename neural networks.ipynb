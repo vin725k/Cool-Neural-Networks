{
 "cells": [
  {
   "cell_type": "code",
   "execution_count": 74,
   "metadata": {},
   "outputs": [],
   "source": [
    "import numpy as np\n",
    "\n",
    "# sigmoid function\n",
    "def nonlin(x,deriv=False):\n",
    "    if(deriv==True):\n",
    "        return x*(1-x)\n",
    "    return 1/(1+np.exp(-x))"
   ]
  },
  {
   "cell_type": "code",
   "execution_count": 75,
   "metadata": {},
   "outputs": [
    {
     "data": {
      "text/plain": [
       "array([[0, 0, 1],\n",
       "       [0, 1, 1],\n",
       "       [1, 0, 1],\n",
       "       [1, 1, 1]])"
      ]
     },
     "execution_count": 75,
     "metadata": {},
     "output_type": "execute_result"
    }
   ],
   "source": [
    "X = np.array([  [0,0,1],\n",
    "                [0,1,1],\n",
    "                [1,0,1],\n",
    "                [1,1,1] ])\n",
    "X"
   ]
  },
  {
   "cell_type": "code",
   "execution_count": 76,
   "metadata": {},
   "outputs": [
    {
     "data": {
      "text/plain": [
       "array([[0],\n",
       "       [0],\n",
       "       [1],\n",
       "       [1]])"
      ]
     },
     "execution_count": 76,
     "metadata": {},
     "output_type": "execute_result"
    }
   ],
   "source": [
    "# output dataset            \n",
    "y = np.array([[0,0,1,1]]).T\n",
    "y"
   ]
  },
  {
   "cell_type": "code",
   "execution_count": 77,
   "metadata": {},
   "outputs": [],
   "source": [
    "np.random.seed(123)"
   ]
  },
  {
   "cell_type": "code",
   "execution_count": 78,
   "metadata": {},
   "outputs": [
    {
     "data": {
      "text/plain": [
       "array([[ 0.69646919],\n",
       "       [ 0.28613933],\n",
       "       [ 0.22685145]])"
      ]
     },
     "execution_count": 78,
     "metadata": {},
     "output_type": "execute_result"
    }
   ],
   "source": [
    "np.random.random((3,1))"
   ]
  },
  {
   "cell_type": "code",
   "execution_count": 35,
   "metadata": {},
   "outputs": [
    {
     "data": {
      "text/plain": [
       "array([[-0.43911202],\n",
       "       [ 0.57855866],\n",
       "       [-0.79354799]])"
      ]
     },
     "execution_count": 35,
     "metadata": {},
     "output_type": "execute_result"
    }
   ],
   "source": []
  },
  {
   "cell_type": "code",
   "execution_count": 79,
   "metadata": {},
   "outputs": [],
   "source": [
    "syn0 = 2*np.random.random((3,1)) - 1"
   ]
  },
  {
   "cell_type": "code",
   "execution_count": 80,
   "metadata": {},
   "outputs": [],
   "source": [
    "for iter in range(10000):\n",
    "\n",
    "    # forward propagation\n",
    "    l0 = X # layer 0\n",
    "    l1 = nonlin(np.dot(l0,syn0)) # layer 1"
   ]
  },
  {
   "cell_type": "code",
   "execution_count": 81,
   "metadata": {},
   "outputs": [],
   "source": [
    "l1_error = y - l1"
   ]
  },
  {
   "cell_type": "code",
   "execution_count": 82,
   "metadata": {},
   "outputs": [
    {
     "data": {
      "text/plain": [
       "array([[ 0.46162882],\n",
       "       [ 0.57080857],\n",
       "       [ 0.4872134 ],\n",
       "       [ 0.59574826]])"
      ]
     },
     "execution_count": 82,
     "metadata": {},
     "output_type": "execute_result"
    }
   ],
   "source": [
    "l1"
   ]
  },
  {
   "cell_type": "code",
   "execution_count": 73,
   "metadata": {},
   "outputs": [
    {
     "data": {
      "text/plain": [
       "array([[-0.44876542, -0.51786936, -0.45919995, -0.59146586],\n",
       "       [ 0.71350245,  0.67866968,  0.69025292,  0.48479854],\n",
       "       [ 0.59209988,  0.37585198,  0.7626185 ,  0.50671505],\n",
       "       [-0.25361036, -0.42263136, -0.14126444, -0.41676548]])"
      ]
     },
     "execution_count": 73,
     "metadata": {},
     "output_type": "execute_result"
    }
   ],
   "source": [
    "l1_error"
   ]
  },
  {
   "cell_type": "code",
   "execution_count": 83,
   "metadata": {},
   "outputs": [],
   "source": [
    "l1_delta = l1_error * nonlin(l1,True) ##doubt\n",
    "syn0 += np.dot(l0.T,l1_delta)"
   ]
  },
  {
   "cell_type": "code",
   "execution_count": 84,
   "metadata": {},
   "outputs": [
    {
     "data": {
      "text/plain": [
       "array([[0, 0, 1, 1],\n",
       "       [0, 1, 0, 1],\n",
       "       [1, 1, 1, 1]])"
      ]
     },
     "execution_count": 84,
     "metadata": {},
     "output_type": "execute_result"
    }
   ],
   "source": [
    "l0.T"
   ]
  },
  {
   "cell_type": "code",
   "execution_count": 85,
   "metadata": {},
   "outputs": [
    {
     "data": {
      "text/plain": [
       "array([[-0.11472753],\n",
       "       [-0.13984019],\n",
       "       [ 0.12811281],\n",
       "       [ 0.09735686]])"
      ]
     },
     "execution_count": 85,
     "metadata": {},
     "output_type": "execute_result"
    }
   ],
   "source": [
    "l1_delta"
   ]
  },
  {
   "cell_type": "code",
   "execution_count": 86,
   "metadata": {},
   "outputs": [
    {
     "data": {
      "text/plain": [
       "array([[ 0.32809921],\n",
       "       [ 0.39645461],\n",
       "       [-0.18288513]])"
      ]
     },
     "execution_count": 86,
     "metadata": {},
     "output_type": "execute_result"
    }
   ],
   "source": [
    "syn0"
   ]
  },
  {
   "cell_type": "code",
   "execution_count": 87,
   "metadata": {},
   "outputs": [
    {
     "data": {
      "text/plain": [
       "array([[ 0.24852765],\n",
       "       [ 0.24498615],\n",
       "       [ 0.2498365 ],\n",
       "       [ 0.24083227]])"
      ]
     },
     "execution_count": 87,
     "metadata": {},
     "output_type": "execute_result"
    }
   ],
   "source": [
    "nonlin(l1,True)"
   ]
  },
  {
   "cell_type": "code",
   "execution_count": 88,
   "metadata": {},
   "outputs": [
    {
     "data": {
      "text/plain": [
       "array([[ 0.22546967],\n",
       "       [-0.04248333],\n",
       "       [-0.02909805]])"
      ]
     },
     "execution_count": 88,
     "metadata": {},
     "output_type": "execute_result"
    }
   ],
   "source": [
    "np.dot(l0.T,l1_delta)"
   ]
  },
  {
   "cell_type": "code",
   "execution_count": 89,
   "metadata": {},
   "outputs": [
    {
     "name": "stdout",
     "output_type": "stream",
     "text": [
      "Output After Training:\n",
      "[[ 0.46162882]\n",
      " [ 0.57080857]\n",
      " [ 0.4872134 ]\n",
      " [ 0.59574826]]\n"
     ]
    }
   ],
   "source": [
    "print(\"Output After Training:\")\n",
    "print(l1)"
   ]
  },
  {
   "cell_type": "code",
   "execution_count": null,
   "metadata": {},
   "outputs": [],
   "source": [
    "###3 layers"
   ]
  },
  {
   "cell_type": "code",
   "execution_count": 90,
   "metadata": {},
   "outputs": [],
   "source": [
    "\n",
    "# input dataset# input  \n",
    "X = np.array([  [0,0,1],\n",
    "                [0,1,1],\n",
    "                [1,0,1],\n",
    "                [1,1,1] ])"
   ]
  },
  {
   "cell_type": "code",
   "execution_count": 91,
   "metadata": {},
   "outputs": [],
   "source": [
    "\n",
    "# output dataset            \n",
    "y = np.array([[0,1,1,0]]).T\n",
    "# same as y = np.array([[0],\n",
    "#                       [1],\n",
    "#                       [1],\n",
    "#                       [0]])"
   ]
  },
  {
   "cell_type": "code",
   "execution_count": 92,
   "metadata": {},
   "outputs": [],
   "source": [
    "np.random.seed(123)"
   ]
  },
  {
   "cell_type": "code",
   "execution_count": 93,
   "metadata": {},
   "outputs": [],
   "source": [
    "# randomly initialize our weights with mean 0\n",
    "syn0 = 2*np.random.random((3,4)) - 1\n",
    "syn1 = 2*np.random.random((4,1)) - 1"
   ]
  },
  {
   "cell_type": "code",
   "execution_count": 94,
   "metadata": {},
   "outputs": [
    {
     "data": {
      "text/plain": [
       "array([[ 0.39293837, -0.42772133, -0.54629709,  0.10262954],\n",
       "       [ 0.43893794, -0.15378708,  0.9615284 ,  0.36965948],\n",
       "       [-0.0381362 , -0.21576496, -0.31364397,  0.45809941]])"
      ]
     },
     "execution_count": 94,
     "metadata": {},
     "output_type": "execute_result"
    }
   ],
   "source": [
    "syn0"
   ]
  },
  {
   "cell_type": "code",
   "execution_count": 95,
   "metadata": {},
   "outputs": [
    {
     "data": {
      "text/plain": [
       "array([[-0.12285551],\n",
       "       [-0.88064421],\n",
       "       [-0.20391149],\n",
       "       [ 0.47599081]])"
      ]
     },
     "execution_count": 95,
     "metadata": {},
     "output_type": "execute_result"
    }
   ],
   "source": [
    "syn1"
   ]
  },
  {
   "cell_type": "code",
   "execution_count": 96,
   "metadata": {},
   "outputs": [],
   "source": [
    "for iter in range(1000):\n",
    "\n",
    "    # Feed forward through layers 0, 1, and 2\n",
    "    l0 = X\n",
    "    l1 = nonlin(np.dot(l0,syn0)) # 4x3 * 3x4 = 4x4\n",
    "    l2 = nonlin(np.dot(l1,syn1)) # 4x4 * 4x1 = 4x1"
   ]
  },
  {
   "cell_type": "code",
   "execution_count": 98,
   "metadata": {},
   "outputs": [
    {
     "data": {
      "text/plain": [
       "array([[-0.43836968],\n",
       "       [ 0.55875041],\n",
       "       [ 0.53324227],\n",
       "       [-0.46906213]])"
      ]
     },
     "execution_count": 98,
     "metadata": {},
     "output_type": "execute_result"
    }
   ],
   "source": [
    "l2_error = y - l2\n",
    "l2_error"
   ]
  },
  {
   "cell_type": "code",
   "execution_count": 51,
   "metadata": {},
   "outputs": [],
   "source": [
    "if (iter% 10000) == 0:\n",
    "        print(\"Error:\" + str(np.mean(np.abs(l2_error))))  ###doubt"
   ]
  },
  {
   "cell_type": "code",
   "execution_count": 52,
   "metadata": {},
   "outputs": [],
   "source": [
    "l2_delta = l2_error*nonlin(l2,deriv=True)"
   ]
  },
  {
   "cell_type": "code",
   "execution_count": 53,
   "metadata": {},
   "outputs": [],
   "source": [
    "l1_error = l2_delta.dot(syn1.T)"
   ]
  },
  {
   "cell_type": "code",
   "execution_count": 54,
   "metadata": {},
   "outputs": [],
   "source": [
    "l1_delta = l1_error * nonlin(l1,deriv=True)"
   ]
  },
  {
   "cell_type": "code",
   "execution_count": 55,
   "metadata": {},
   "outputs": [],
   "source": [
    "syn1 += l1.T.dot(l2_delta)\n",
    "syn0 += l0.T.dot(l1_delta)"
   ]
  },
  {
   "cell_type": "code",
   "execution_count": 99,
   "metadata": {},
   "outputs": [
    {
     "name": "stdout",
     "output_type": "stream",
     "text": [
      "[[ 0.43836968]\n",
      " [ 0.44124959]\n",
      " [ 0.46675773]\n",
      " [ 0.46906213]]\n"
     ]
    }
   ],
   "source": [
    "print(l2)"
   ]
  },
  {
   "cell_type": "markdown",
   "metadata": {},
   "source": [
    "####Gradient Descent"
   ]
  },
  {
   "cell_type": "code",
   "execution_count": 4,
   "metadata": {},
   "outputs": [],
   "source": [
    "import numpy as np"
   ]
  },
  {
   "cell_type": "code",
   "execution_count": 5,
   "metadata": {},
   "outputs": [],
   "source": [
    "alphas = [0.001,0.01,0.1,1,10,100,1000]"
   ]
  },
  {
   "cell_type": "code",
   "execution_count": 6,
   "metadata": {},
   "outputs": [],
   "source": [
    "hiddenSize = 3"
   ]
  },
  {
   "cell_type": "code",
   "execution_count": 7,
   "metadata": {},
   "outputs": [],
   "source": [
    "# compute sigmoid nonlinearity\n",
    "def sigmoid(x):\n",
    "    output = 1/(1+np.exp(-x))\n",
    "    return output"
   ]
  },
  {
   "cell_type": "code",
   "execution_count": 8,
   "metadata": {},
   "outputs": [],
   "source": [
    "# convert output of sigmoid function to its derivative\n",
    "def sigmoid_output_to_derivative(output):\n",
    "    return output*(1-output)"
   ]
  },
  {
   "cell_type": "code",
   "execution_count": 9,
   "metadata": {},
   "outputs": [],
   "source": [
    "X = np.array([[0,0,1],\n",
    "          [0,1,1],\n",
    "          [1,0,1],\n",
    "             [1,1,1]])"
   ]
  },
  {
   "cell_type": "code",
   "execution_count": 10,
   "metadata": {},
   "outputs": [],
   "source": [
    "y = np.array([[0],\n",
    "            [1],\n",
    "            [1],\n",
    "           [0]])"
   ]
  },
  {
   "cell_type": "code",
   "execution_count": 26,
   "metadata": {},
   "outputs": [
    {
     "name": "stdout",
     "output_type": "stream",
     "text": [
      "\n",
      "Training With Alpha:0.001\n",
      "Error after 0iterations:0.501805775005\n",
      "Error after 10000iterations:0.501210638185\n",
      "Error after 20000iterations:0.500789898168\n",
      "Error after 30000iterations:0.500465016768\n",
      "Error after 40000iterations:0.500190060259\n",
      "Error after 50000iterations:0.499936422407\n",
      "\n",
      "Training With Alpha:0.01\n",
      "Error after 0iterations:0.501805775005\n",
      "Error after 10000iterations:0.498295738833\n",
      "Error after 20000iterations:0.476693714606\n",
      "Error after 30000iterations:0.399012006685\n",
      "Error after 40000iterations:0.329136314333\n",
      "Error after 50000iterations:0.262578687001\n",
      "\n",
      "Training With Alpha:0.1\n",
      "Error after 0iterations:0.501805775005\n",
      "Error after 10000iterations:0.169017852254\n",
      "Error after 20000iterations:0.147617279981\n",
      "Error after 30000iterations:0.141622169761\n",
      "Error after 40000iterations:0.138612565567\n",
      "Error after 50000iterations:0.136747041091\n",
      "\n",
      "Training With Alpha:1\n",
      "Error after 0iterations:0.501805775005\n",
      "Error after 10000iterations:0.132686375391\n",
      "Error after 20000iterations:0.0129160750845\n",
      "Error after 30000iterations:0.00762679067995\n",
      "Error after 40000iterations:0.00597797791728\n",
      "Error after 50000iterations:0.00508752982666\n",
      "\n",
      "Training With Alpha:10\n",
      "Error after 0iterations:0.501805775005\n",
      "Error after 10000iterations:0.00332677332372\n",
      "Error after 20000iterations:0.00226005120135\n",
      "Error after 30000iterations:0.00181857888629\n",
      "Error after 40000iterations:0.00156117904436\n",
      "Error after 50000iterations:0.00138742739546\n",
      "\n",
      "Training With Alpha:100\n",
      "Error after 0iterations:0.501805775005\n",
      "Error after 10000iterations:0.499998440639\n",
      "Error after 20000iterations:0.375297941883\n",
      "Error after 30000iterations:0.375197556331\n",
      "Error after 40000iterations:0.375157278872\n",
      "Error after 50000iterations:0.375134287055\n",
      "\n",
      "Training With Alpha:1000\n",
      "Error after 0iterations:0.501805775005\n",
      "Error after 10000iterations:0.500000000001\n",
      "Error after 20000iterations:0.500000000001\n",
      "Error after 30000iterations:0.500000000001\n",
      "Error after 40000iterations:0.500000000001\n",
      "Error after 50000iterations:0.500000000001\n"
     ]
    }
   ],
   "source": [
    "for alpha in alphas:\n",
    "    print (\"\\nTraining With Alpha:\" + str(alpha))\n",
    "    np.random.seed(1)\n",
    "# randomly initialize our weights with mean 0\n",
    "    synapse_0 = 2*np.random.random((3,hiddenSize)) - 1\n",
    "    synapse_1 = 2*np.random.random((hiddenSize,1)) - 1\n",
    "    for j in range(60000):\n",
    "        layer_0 = X\n",
    "        layer_1 = sigmoid(np.dot(layer_0,synapse_0))\n",
    "        layer_2 = sigmoid(np.dot(layer_1,synapse_1))\n",
    "    # how much did we miss the target value?\n",
    "        layer_2_error = layer_2 - y\n",
    "        if (j% 10000) == 0:\n",
    "            print (\"Error after \"+str(j)+\"iterations:\" + str(np.mean(np.abs(layer_2_error))))\n",
    "        layer_2_delta = layer_2_error*sigmoid_output_to_derivative(layer_2)\n",
    "\n",
    "# how much did each l1 value contribute to the l2 error (according to the weights)?\n",
    "        layer_1_error = layer_2_delta.dot(synapse_1.T)\n",
    "\n",
    "\n",
    "# were we really sure? if so, don't change too much.\n",
    "        layer_1_delta = layer_1_error * sigmoid_output_to_derivative(layer_1)\n",
    "\n",
    "        synapse_1 -= alpha * (layer_1.T.dot(layer_2_delta))\n",
    "        synapse_0 -= alpha * (layer_0.T.dot(layer_1_delta))"
   ]
  },
  {
   "cell_type": "code",
   "execution_count": 20,
   "metadata": {},
   "outputs": [
    {
     "data": {
      "text/plain": [
       "array([[ -4.9624094 ],\n",
       "       [ -3.49226718],\n",
       "       [-13.36121777]])"
      ]
     },
     "execution_count": 20,
     "metadata": {},
     "output_type": "execute_result"
    }
   ],
   "source": [
    "synapse_1 "
   ]
  },
  {
   "cell_type": "code",
   "execution_count": 21,
   "metadata": {},
   "outputs": [
    {
     "data": {
      "text/plain": [
       "array([[ 0.15086787,  0.13444312,  2.32281688],\n",
       "       [-0.32103702,  0.16717063,  3.05377908],\n",
       "       [-0.82701527,  0.81448705, -0.34479584]])"
      ]
     },
     "execution_count": 21,
     "metadata": {},
     "output_type": "execute_result"
    }
   ],
   "source": [
    "synapse_0 "
   ]
  },
  {
   "cell_type": "code",
   "execution_count": null,
   "metadata": {},
   "outputs": [],
   "source": []
  },
  {
   "cell_type": "code",
   "execution_count": null,
   "metadata": {},
   "outputs": [],
   "source": []
  },
  {
   "cell_type": "code",
   "execution_count": null,
   "metadata": {},
   "outputs": [],
   "source": []
  }
 ],
 "metadata": {
  "kernelspec": {
   "display_name": "Python 3",
   "language": "python",
   "name": "python3"
  },
  "language_info": {
   "codemirror_mode": {
    "name": "ipython",
    "version": 3
   },
   "file_extension": ".py",
   "mimetype": "text/x-python",
   "name": "python",
   "nbconvert_exporter": "python",
   "pygments_lexer": "ipython3",
   "version": "3.6.1"
  }
 },
 "nbformat": 4,
 "nbformat_minor": 2
}
